{
  "nbformat": 4,
  "nbformat_minor": 0,
  "metadata": {
    "colab": {
      "name": "Laptop Analysis",
      "provenance": []
    },
    "kernelspec": {
      "name": "python3",
      "display_name": "Python 3"
    },
    "language_info": {
      "name": "python"
    }
  },
  "cells": [
    {
      "cell_type": "code",
      "execution_count": 1,
      "metadata": {
        "id": "VKM6Vose_6up"
      },
      "outputs": [],
      "source": [
        "import pandas as pd\n",
        "import numpy as np\n",
        "import matplotlib.pyplot as plt\n",
        "%matplotlib inline\n",
        "import seaborn as sns\n",
        "import statistics as sts"
      ]
    },
    {
      "cell_type": "code",
      "source": [
        "df = pd.read_csv('laptops.csv',encoding='latin-1')"
      ],
      "metadata": {
        "id": "bUl53eHOGtSi"
      },
      "execution_count": 3,
      "outputs": []
    },
    {
      "cell_type": "code",
      "source": [
        "df.head()"
      ],
      "metadata": {
        "colab": {
          "base_uri": "https://localhost:8080/",
          "height": 513
        },
        "id": "C_s24wX_HdgC",
        "outputId": "47b81a2b-8acd-4832-d47e-fbfea5e1d062"
      },
      "execution_count": 4,
      "outputs": [
        {
          "output_type": "execute_result",
          "data": {
            "text/plain": [
              "   Unnamed: 0 Company      Product   TypeName  Inches  \\\n",
              "0           1   Apple  MacBook Pro  Ultrabook    13.3   \n",
              "1           2   Apple  Macbook Air  Ultrabook    13.3   \n",
              "2           3      HP       250 G6   Notebook    15.6   \n",
              "3           4   Apple  MacBook Pro  Ultrabook    15.4   \n",
              "4           5   Apple  MacBook Pro  Ultrabook    13.3   \n",
              "\n",
              "                     ScreenResolution                         Cpu   Ram  \\\n",
              "0  IPS Panel Retina Display 2560x1600        Intel Core i5 2.3GHz   8GB   \n",
              "1                            1440x900        Intel Core i5 1.8GHz   8GB   \n",
              "2                   Full HD 1920x1080  Intel Core i5 7200U 2.5GHz   8GB   \n",
              "3  IPS Panel Retina Display 2880x1800        Intel Core i7 2.7GHz  16GB   \n",
              "4  IPS Panel Retina Display 2560x1600        Intel Core i5 3.1GHz   8GB   \n",
              "\n",
              "                Memory                           Gpu  OpSys  Weight  \\\n",
              "0            128GB SSD  Intel Iris Plus Graphics 640  macOS  1.37kg   \n",
              "1  128GB Flash Storage        Intel HD Graphics 6000  macOS  1.34kg   \n",
              "2            256GB SSD         Intel HD Graphics 620  No OS  1.86kg   \n",
              "3            512GB SSD            AMD Radeon Pro 455  macOS  1.83kg   \n",
              "4            256GB SSD  Intel Iris Plus Graphics 650  macOS  1.37kg   \n",
              "\n",
              "   Price_euros  \n",
              "0      1339.69  \n",
              "1       898.94  \n",
              "2       575.00  \n",
              "3      2537.45  \n",
              "4      1803.60  "
            ],
            "text/html": [
              "\n",
              "  <div id=\"df-6bfcb690-b516-410d-8aec-0a025cba65ff\">\n",
              "    <div class=\"colab-df-container\">\n",
              "      <div>\n",
              "<style scoped>\n",
              "    .dataframe tbody tr th:only-of-type {\n",
              "        vertical-align: middle;\n",
              "    }\n",
              "\n",
              "    .dataframe tbody tr th {\n",
              "        vertical-align: top;\n",
              "    }\n",
              "\n",
              "    .dataframe thead th {\n",
              "        text-align: right;\n",
              "    }\n",
              "</style>\n",
              "<table border=\"1\" class=\"dataframe\">\n",
              "  <thead>\n",
              "    <tr style=\"text-align: right;\">\n",
              "      <th></th>\n",
              "      <th>Unnamed: 0</th>\n",
              "      <th>Company</th>\n",
              "      <th>Product</th>\n",
              "      <th>TypeName</th>\n",
              "      <th>Inches</th>\n",
              "      <th>ScreenResolution</th>\n",
              "      <th>Cpu</th>\n",
              "      <th>Ram</th>\n",
              "      <th>Memory</th>\n",
              "      <th>Gpu</th>\n",
              "      <th>OpSys</th>\n",
              "      <th>Weight</th>\n",
              "      <th>Price_euros</th>\n",
              "    </tr>\n",
              "  </thead>\n",
              "  <tbody>\n",
              "    <tr>\n",
              "      <th>0</th>\n",
              "      <td>1</td>\n",
              "      <td>Apple</td>\n",
              "      <td>MacBook Pro</td>\n",
              "      <td>Ultrabook</td>\n",
              "      <td>13.3</td>\n",
              "      <td>IPS Panel Retina Display 2560x1600</td>\n",
              "      <td>Intel Core i5 2.3GHz</td>\n",
              "      <td>8GB</td>\n",
              "      <td>128GB SSD</td>\n",
              "      <td>Intel Iris Plus Graphics 640</td>\n",
              "      <td>macOS</td>\n",
              "      <td>1.37kg</td>\n",
              "      <td>1339.69</td>\n",
              "    </tr>\n",
              "    <tr>\n",
              "      <th>1</th>\n",
              "      <td>2</td>\n",
              "      <td>Apple</td>\n",
              "      <td>Macbook Air</td>\n",
              "      <td>Ultrabook</td>\n",
              "      <td>13.3</td>\n",
              "      <td>1440x900</td>\n",
              "      <td>Intel Core i5 1.8GHz</td>\n",
              "      <td>8GB</td>\n",
              "      <td>128GB Flash Storage</td>\n",
              "      <td>Intel HD Graphics 6000</td>\n",
              "      <td>macOS</td>\n",
              "      <td>1.34kg</td>\n",
              "      <td>898.94</td>\n",
              "    </tr>\n",
              "    <tr>\n",
              "      <th>2</th>\n",
              "      <td>3</td>\n",
              "      <td>HP</td>\n",
              "      <td>250 G6</td>\n",
              "      <td>Notebook</td>\n",
              "      <td>15.6</td>\n",
              "      <td>Full HD 1920x1080</td>\n",
              "      <td>Intel Core i5 7200U 2.5GHz</td>\n",
              "      <td>8GB</td>\n",
              "      <td>256GB SSD</td>\n",
              "      <td>Intel HD Graphics 620</td>\n",
              "      <td>No OS</td>\n",
              "      <td>1.86kg</td>\n",
              "      <td>575.00</td>\n",
              "    </tr>\n",
              "    <tr>\n",
              "      <th>3</th>\n",
              "      <td>4</td>\n",
              "      <td>Apple</td>\n",
              "      <td>MacBook Pro</td>\n",
              "      <td>Ultrabook</td>\n",
              "      <td>15.4</td>\n",
              "      <td>IPS Panel Retina Display 2880x1800</td>\n",
              "      <td>Intel Core i7 2.7GHz</td>\n",
              "      <td>16GB</td>\n",
              "      <td>512GB SSD</td>\n",
              "      <td>AMD Radeon Pro 455</td>\n",
              "      <td>macOS</td>\n",
              "      <td>1.83kg</td>\n",
              "      <td>2537.45</td>\n",
              "    </tr>\n",
              "    <tr>\n",
              "      <th>4</th>\n",
              "      <td>5</td>\n",
              "      <td>Apple</td>\n",
              "      <td>MacBook Pro</td>\n",
              "      <td>Ultrabook</td>\n",
              "      <td>13.3</td>\n",
              "      <td>IPS Panel Retina Display 2560x1600</td>\n",
              "      <td>Intel Core i5 3.1GHz</td>\n",
              "      <td>8GB</td>\n",
              "      <td>256GB SSD</td>\n",
              "      <td>Intel Iris Plus Graphics 650</td>\n",
              "      <td>macOS</td>\n",
              "      <td>1.37kg</td>\n",
              "      <td>1803.60</td>\n",
              "    </tr>\n",
              "  </tbody>\n",
              "</table>\n",
              "</div>\n",
              "      <button class=\"colab-df-convert\" onclick=\"convertToInteractive('df-6bfcb690-b516-410d-8aec-0a025cba65ff')\"\n",
              "              title=\"Convert this dataframe to an interactive table.\"\n",
              "              style=\"display:none;\">\n",
              "        \n",
              "  <svg xmlns=\"http://www.w3.org/2000/svg\" height=\"24px\"viewBox=\"0 0 24 24\"\n",
              "       width=\"24px\">\n",
              "    <path d=\"M0 0h24v24H0V0z\" fill=\"none\"/>\n",
              "    <path d=\"M18.56 5.44l.94 2.06.94-2.06 2.06-.94-2.06-.94-.94-2.06-.94 2.06-2.06.94zm-11 1L8.5 8.5l.94-2.06 2.06-.94-2.06-.94L8.5 2.5l-.94 2.06-2.06.94zm10 10l.94 2.06.94-2.06 2.06-.94-2.06-.94-.94-2.06-.94 2.06-2.06.94z\"/><path d=\"M17.41 7.96l-1.37-1.37c-.4-.4-.92-.59-1.43-.59-.52 0-1.04.2-1.43.59L10.3 9.45l-7.72 7.72c-.78.78-.78 2.05 0 2.83L4 21.41c.39.39.9.59 1.41.59.51 0 1.02-.2 1.41-.59l7.78-7.78 2.81-2.81c.8-.78.8-2.07 0-2.86zM5.41 20L4 18.59l7.72-7.72 1.47 1.35L5.41 20z\"/>\n",
              "  </svg>\n",
              "      </button>\n",
              "      \n",
              "  <style>\n",
              "    .colab-df-container {\n",
              "      display:flex;\n",
              "      flex-wrap:wrap;\n",
              "      gap: 12px;\n",
              "    }\n",
              "\n",
              "    .colab-df-convert {\n",
              "      background-color: #E8F0FE;\n",
              "      border: none;\n",
              "      border-radius: 50%;\n",
              "      cursor: pointer;\n",
              "      display: none;\n",
              "      fill: #1967D2;\n",
              "      height: 32px;\n",
              "      padding: 0 0 0 0;\n",
              "      width: 32px;\n",
              "    }\n",
              "\n",
              "    .colab-df-convert:hover {\n",
              "      background-color: #E2EBFA;\n",
              "      box-shadow: 0px 1px 2px rgba(60, 64, 67, 0.3), 0px 1px 3px 1px rgba(60, 64, 67, 0.15);\n",
              "      fill: #174EA6;\n",
              "    }\n",
              "\n",
              "    [theme=dark] .colab-df-convert {\n",
              "      background-color: #3B4455;\n",
              "      fill: #D2E3FC;\n",
              "    }\n",
              "\n",
              "    [theme=dark] .colab-df-convert:hover {\n",
              "      background-color: #434B5C;\n",
              "      box-shadow: 0px 1px 3px 1px rgba(0, 0, 0, 0.15);\n",
              "      filter: drop-shadow(0px 1px 2px rgba(0, 0, 0, 0.3));\n",
              "      fill: #FFFFFF;\n",
              "    }\n",
              "  </style>\n",
              "\n",
              "      <script>\n",
              "        const buttonEl =\n",
              "          document.querySelector('#df-6bfcb690-b516-410d-8aec-0a025cba65ff button.colab-df-convert');\n",
              "        buttonEl.style.display =\n",
              "          google.colab.kernel.accessAllowed ? 'block' : 'none';\n",
              "\n",
              "        async function convertToInteractive(key) {\n",
              "          const element = document.querySelector('#df-6bfcb690-b516-410d-8aec-0a025cba65ff');\n",
              "          const dataTable =\n",
              "            await google.colab.kernel.invokeFunction('convertToInteractive',\n",
              "                                                     [key], {});\n",
              "          if (!dataTable) return;\n",
              "\n",
              "          const docLinkHtml = 'Like what you see? Visit the ' +\n",
              "            '<a target=\"_blank\" href=https://colab.research.google.com/notebooks/data_table.ipynb>data table notebook</a>'\n",
              "            + ' to learn more about interactive tables.';\n",
              "          element.innerHTML = '';\n",
              "          dataTable['output_type'] = 'display_data';\n",
              "          await google.colab.output.renderOutput(dataTable, element);\n",
              "          const docLink = document.createElement('div');\n",
              "          docLink.innerHTML = docLinkHtml;\n",
              "          element.appendChild(docLink);\n",
              "        }\n",
              "      </script>\n",
              "    </div>\n",
              "  </div>\n",
              "  "
            ]
          },
          "metadata": {},
          "execution_count": 4
        }
      ]
    },
    {
      "cell_type": "code",
      "source": [
        "df.isnull().sum()"
      ],
      "metadata": {
        "colab": {
          "base_uri": "https://localhost:8080/"
        },
        "id": "yl1_W7BnHsNZ",
        "outputId": "6b2e05a3-600b-4583-ce41-238dc2ac2cf4"
      },
      "execution_count": 5,
      "outputs": [
        {
          "output_type": "execute_result",
          "data": {
            "text/plain": [
              "Unnamed: 0          0\n",
              "Company             0\n",
              "Product             0\n",
              "TypeName            0\n",
              "Inches              0\n",
              "ScreenResolution    0\n",
              "Cpu                 0\n",
              "Ram                 0\n",
              "Memory              0\n",
              "Gpu                 0\n",
              "OpSys               0\n",
              "Weight              0\n",
              "Price_euros         0\n",
              "dtype: int64"
            ]
          },
          "metadata": {},
          "execution_count": 5
        }
      ]
    },
    {
      "cell_type": "code",
      "source": [
        "lap_count=df.groupby(['Company']).count().reset_index().sort_values(by='Unnamed: 0',\n",
        "                                                                    ascending=False)\n",
        "plt.figure(figsize =(11,9))\n",
        "plt.bar(lap_count['Company'],lap_count['Unnamed: 0'])\n",
        "plt.xticks(rotation=30)\n",
        "plt.grid(axis='y')\n",
        "plt.title('Laptops by Company')\n",
        "plt.show()"
      ],
      "metadata": {
        "colab": {
          "base_uri": "https://localhost:8080/",
          "height": 577
        },
        "id": "5Vd0uq9ZHt6L",
        "outputId": "99cfa898-a56b-42be-b1af-42574469a2fe"
      },
      "execution_count": 14,
      "outputs": [
        {
          "output_type": "display_data",
          "data": {
            "text/plain": [
              "<Figure size 792x648 with 1 Axes>"
            ],
            "image/png": "[encoded data removed]"
          },
          "metadata": {
            "needs_background": "light"
          }
        }
      ]
    },
    {
      "cell_type": "code",
      "source": [
        "lap_type = df.groupby(['TypeName']).count().reset_index().sort_values(by='Unnamed: 0', ascending=False)\n",
        "plt.figure(figsize=(11,9))\n",
        "plt.bar(lap_type['TypeName'], lap_type['Unnamed: 0'])\n",
        "plt.title('Laptops by type')\n",
        "plt.grid(axis='y')\n",
        "plt.show()"
      ],
      "metadata": {
        "colab": {
          "base_uri": "https://localhost:8080/",
          "height": 553
        },
        "id": "QgPqA5HmIfB8",
        "outputId": "4497b6f0-8f65-4e7f-f45b-b5d178cca89e"
      },
      "execution_count": 16,
      "outputs": [
        {
          "output_type": "display_data",
          "data": {
            "text/plain": [
              "<Figure size 792x648 with 1 Axes>"
            ],
            "image/png": "[encoded data removed]"
          },
          "metadata": {
            "needs_background": "light"
          }
        }
      ]
    },
    {
      "cell_type": "code",
      "source": [
        "sns.boxplot(y=df['Price_euros'], color='gray', medianprops=dict(color=\"red\"))\n",
        "plt.ylabel(None)\n",
        "plt.title('Price euros boxplot')\n",
        "plt.grid(axis='y')\n",
        "plt.show()"
      ],
      "metadata": {
        "colab": {
          "base_uri": "https://localhost:8080/",
          "height": 268
        },
        "id": "mdqK6cFrJuIz",
        "outputId": "6be9f4b0-665e-4abc-968a-636f9b46066e"
      },
      "execution_count": 18,
      "outputs": [
        {
          "output_type": "display_data",
          "data": {
            "text/plain": [
              "<Figure size 432x288 with 1 Axes>"
            ],
            "image/png": "[encoded data removed]"
          },
          "metadata": {
            "needs_background": "light"
          }
        }
      ]
    },
    {
      "cell_type": "code",
      "source": [
        "d = {}\n",
        "for name in lap_count['Company']:\n",
        "    d[name] = df.loc[df['Company'] == name]\n",
        "\n",
        "for name, df in d.items():\n",
        "    print(d[name]['Company'].unique(),\n",
        "          '\\n', d[name].describe())"
      ],
      "metadata": {
        "colab": {
          "base_uri": "https://localhost:8080/"
        },
        "id": "Qmcn2cn3J97G",
        "outputId": "7713d5c1-8a22-4cee-d1f8-5b6c4afedc02"
      },
      "execution_count": 21,
      "outputs": [
        {
          "output_type": "stream",
          "name": "stdout",
          "text": [
            "['Dell'] \n",
            "         Unnamed: 0      Inches  Price_euros\n",
            "count   297.000000  297.000000   297.000000\n",
            "mean    650.599327   15.136027  1186.068990\n",
            "std     375.415703    1.254592   672.941227\n",
            "min      14.000000   11.600000   274.900000\n",
            "25%     345.000000   14.000000   735.070000\n",
            "50%     639.000000   15.600000   985.000000\n",
            "75%     965.000000   15.600000  1472.200000\n",
            "max    1313.000000   17.300000  3659.400000\n",
            "['Lenovo'] \n",
            "         Unnamed: 0      Inches  Price_euros\n",
            "count   297.000000  297.000000   297.000000\n",
            "mean    682.471380   14.872727  1086.384444\n",
            "std     358.541377    1.328010   698.426088\n",
            "min      19.000000   10.100000   229.000000\n",
            "25%     392.000000   14.000000   549.000000\n",
            "50%     650.000000   15.600000   899.000000\n",
            "75%     968.000000   15.600000  1488.990000\n",
            "max    1318.000000   17.300000  4899.000000\n",
            "['HP'] \n",
            "         Unnamed: 0      Inches  Price_euros\n",
            "count   274.000000  274.000000   274.000000\n",
            "mean    703.722628   14.943066  1067.774854\n",
            "std     393.723118    1.450896   617.508031\n",
            "min       3.000000   11.600000   209.000000\n",
            "25%     349.000000   14.000000   615.997500\n",
            "50%     759.000000   15.600000   966.500000\n",
            "75%    1046.250000   15.600000  1389.000000\n",
            "max    1319.000000   17.300000  4389.000000\n",
            "['Asus'] \n",
            "         Unnamed: 0      Inches  Price_euros\n",
            "count   158.000000  158.000000   158.000000\n",
            "mean    614.765823   15.450000  1104.169367\n",
            "std     400.680364    1.519124   702.490232\n",
            "min       9.000000   11.600000   191.900000\n",
            "25%     280.000000   14.000000   537.250000\n",
            "50%     540.000000   15.600000  1012.500000\n",
            "75%     909.250000   17.300000  1488.250000\n",
            "max    1320.000000   17.300000  3975.000000\n",
            "['Acer'] \n",
            "         Unnamed: 0      Inches  Price_euros\n",
            "count   103.000000  103.000000   103.000000\n",
            "mean    585.087379   15.063107   626.775825\n",
            "std     393.079823    1.418850   375.671363\n",
            "min       6.000000   11.600000   174.000000\n",
            "25%     234.500000   14.000000   385.500000\n",
            "50%     550.000000   15.600000   559.000000\n",
            "75%     909.000000   15.600000   774.500000\n",
            "max    1309.000000   17.300000  2599.000000\n",
            "['MSI'] \n",
            "         Unnamed: 0     Inches  Price_euros\n",
            "count    54.000000  54.000000    54.000000\n",
            "mean    760.759259  16.442593  1728.908148\n",
            "std     389.340998   0.996712   530.348129\n",
            "min      59.000000  14.000000   839.000000\n",
            "25%     422.000000  15.600000  1206.500000\n",
            "50%     794.500000  17.300000  1599.000000\n",
            "75%    1118.750000  17.300000  2187.592500\n",
            "max    1277.000000  18.400000  2799.000000\n",
            "['Toshiba'] \n",
            "         Unnamed: 0     Inches  Price_euros\n",
            "count    48.000000  48.000000    48.000000\n",
            "mean    722.375000  14.354167  1267.812500\n",
            "std     287.527954   1.063907   478.913294\n",
            "min     146.000000  12.500000   447.000000\n",
            "25%     528.000000  13.300000   965.500000\n",
            "50%     803.000000  14.000000  1211.500000\n",
            "75%     968.000000  15.600000  1535.000000\n",
            "max    1133.000000  15.600000  2799.000000\n",
            "['Apple'] \n",
            "         Unnamed: 0     Inches  Price_euros\n",
            "count    21.000000  21.000000    21.000000\n",
            "mean    304.142857  13.247619  1564.198571\n",
            "std     478.097614   1.237182   561.623595\n",
            "min       1.000000  11.600000   898.940000\n",
            "25%       8.000000  12.000000  1163.000000\n",
            "50%      27.000000  13.300000  1339.690000\n",
            "75%     275.000000  13.300000  1958.900000\n",
            "max    1252.000000  15.400000  2858.000000\n",
            "['Samsung'] \n",
            "         Unnamed: 0     Inches  Price_euros\n",
            "count     9.000000   9.000000     9.000000\n",
            "mean    796.222222  13.822222  1413.444444\n",
            "std     212.203191   1.387243   556.509459\n",
            "min     437.000000  11.600000   269.000000\n",
            "25%     754.000000  13.300000  1499.000000\n",
            "50%     780.000000  13.300000  1649.000000\n",
            "75%     885.000000  15.000000  1699.000000\n",
            "max    1209.000000  15.600000  1849.000000\n",
            "['Razer'] \n",
            "         Unnamed: 0     Inches  Price_euros\n",
            "count     7.000000   7.000000     7.000000\n",
            "mean    812.428571  14.514286  3346.142857\n",
            "std     340.118537   2.017778  1859.988479\n",
            "min     200.000000  12.500000  1029.000000\n",
            "25%     721.000000  13.250000  2199.000000\n",
            "50%     825.000000  14.000000  2899.000000\n",
            "75%     985.500000  15.650000  4499.000000\n",
            "max    1249.000000  17.300000  6099.000000\n",
            "['Mediacom'] \n",
            "        Unnamed: 0     Inches  Price_euros\n",
            "count    7.000000   7.000000     7.000000\n",
            "mean   581.000000  13.457143   295.000000\n",
            "std     88.313834   0.882906    60.663004\n",
            "min    436.000000  11.600000   239.000000\n",
            "25%    551.500000  13.300000   252.000000\n",
            "50%    582.000000  14.000000   265.000000\n",
            "75%    610.000000  14.000000   334.000000\n",
            "max    726.000000  14.000000   389.000000\n",
            "['Microsoft'] \n",
            "        Unnamed: 0  Inches  Price_euros\n",
            "count    6.000000     6.0     6.000000\n",
            "mean   373.666667    13.5  1612.308333\n",
            "std    235.802177     0.0   598.431057\n",
            "min     72.000000    13.5   989.000000\n",
            "25%    194.250000    13.5  1151.750000\n",
            "50%    460.000000    13.5  1569.500000\n",
            "75%    464.750000    13.5  1850.637500\n",
            "max    678.000000    13.5  2589.000000\n",
            "['Vero'] \n",
            "         Unnamed: 0  Inches  Price_euros\n",
            "count     4.000000   4.000     4.000000\n",
            "mean    796.250000  13.825   217.425000\n",
            "std     425.526634   0.350    29.020266\n",
            "min     195.000000  13.300   196.000000\n",
            "25%     648.750000  13.825   201.175000\n",
            "50%     927.500000  14.000   206.850000\n",
            "75%    1075.000000  14.000   223.100000\n",
            "max    1135.000000  14.000   260.000000\n",
            "['Xiaomi'] \n",
            "        Unnamed: 0     Inches  Price_euros\n",
            "count    4.000000   4.000000     4.000000\n",
            "mean   448.250000  14.450000  1133.462500\n",
            "std    331.678936   1.327906   210.188056\n",
            "min    188.000000  13.300000   935.000000\n",
            "25%    194.000000  13.300000   983.675000\n",
            "50%    358.500000  14.450000  1099.450000\n",
            "75%    612.750000  15.600000  1249.237500\n",
            "max    888.000000  15.600000  1399.950000\n",
            "['Google'] \n",
            "        Unnamed: 0        Inches  Price_euros\n",
            "count    3.000000  3.000000e+00     3.000000\n",
            "mean   564.666667  1.230000e+01  1677.666667\n",
            "std    179.544795  2.175584e-15   473.292017\n",
            "min    444.000000  1.230000e+01  1275.000000\n",
            "25%    461.500000  1.230000e+01  1417.000000\n",
            "50%    479.000000  1.230000e+01  1559.000000\n",
            "75%    625.000000  1.230000e+01  1879.000000\n",
            "max    771.000000  1.230000e+01  2199.000000\n",
            "['Fujitsu'] \n",
            "        Unnamed: 0  Inches  Price_euros\n",
            "count    3.000000     3.0     3.000000\n",
            "mean   733.666667    15.6   729.000000\n",
            "std    229.765823     0.0    75.498344\n",
            "min    574.000000    15.6   649.000000\n",
            "25%    602.000000    15.6   694.000000\n",
            "50%    630.000000    15.6   739.000000\n",
            "75%    813.500000    15.6   769.000000\n",
            "max    997.000000    15.6   799.000000\n",
            "['Chuwi'] \n",
            "        Unnamed: 0     Inches  Price_euros\n",
            "count    3.000000   3.000000     3.000000\n",
            "mean   316.333333  14.500000   314.296667\n",
            "std    249.042834   1.905256   116.672889\n",
            "min     31.000000  12.300000   244.990000\n",
            "25%    229.500000  13.950000   246.945000\n",
            "50%    428.000000  15.600000   248.900000\n",
            "75%    459.000000  15.600000   348.950000\n",
            "max    490.000000  15.600000   449.000000\n",
            "['LG'] \n",
            "        Unnamed: 0     Inches  Price_euros\n",
            "count    3.000000   3.000000          3.0\n",
            "mean   841.666667  15.066667       2099.0\n",
            "std    134.834466   0.923760        200.0\n",
            "min    686.000000  14.000000       1899.0\n",
            "25%    801.500000  14.800000       1999.0\n",
            "50%    917.000000  15.600000       2099.0\n",
            "75%    919.500000  15.600000       2199.0\n",
            "max    922.000000  15.600000       2299.0\n",
            "['Huawei'] \n",
            "        Unnamed: 0  Inches  Price_euros\n",
            "count    2.000000     2.0     2.000000\n",
            "mean   196.500000    13.0  1424.000000\n",
            "std     31.819805     0.0   106.066017\n",
            "min    174.000000    13.0  1349.000000\n",
            "25%    185.250000    13.0  1386.500000\n",
            "50%    196.500000    13.0  1424.000000\n",
            "75%    207.750000    13.0  1461.500000\n",
            "max    219.000000    13.0  1499.000000\n"
          ]
        }
      ]
    },
    {
      "cell_type": "code",
      "source": [
        ""
      ],
      "metadata": {
        "id": "H8fDpGkyKNfs"
      },
      "execution_count": null,
      "outputs": []
    }
  ]
}