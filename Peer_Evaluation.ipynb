{
 "cells": [
  {
   "cell_type": "markdown",
   "id": "c660c586-c4d3-45c4-a4bb-e0b8ae62d7a5",
   "metadata": {},
   "source": [
    "# My Jupyter Notebook on IBM Watson Studio"
   ]
  },
  {
   "cell_type": "markdown",
   "id": "bda59728-ea1f-452d-a1b1-9e1a6e79d5c2",
   "metadata": {
    "tags": []
   },
   "source": [
    "**Ferris Wong**\n",
    "\n",
    "\n",
    "Data Scientist"
   ]
  },
  {
   "cell_type": "markdown",
   "id": "24e857e8-c9c1-4953-9d65-d7ec043e78ca",
   "metadata": {},
   "source": [
    "*I am interested in Data Science because it is a new topic in the programming world and I am ready to learn*"
   ]
  },
  {
   "cell_type": "markdown",
   "id": "3300748c-de22-489b-b192-6908ce271176",
   "metadata": {},
   "source": [
    "### In cell 5 we are adding two variables together"
   ]
  },
  {
   "cell_type": "code",
   "execution_count": 2,
   "id": "8613330b-3405-4ede-864e-76f792647ecd",
   "metadata": {},
   "outputs": [
    {
     "name": "stdout",
     "output_type": "stream",
     "text": [
      "3\n"
     ]
    }
   ],
   "source": [
    "one = 1 \n",
    "two = 2 \n",
    "print(one + two)"
   ]
  },
  {
   "cell_type": "markdown",
   "id": "17f55dcb-ef7a-4308-972e-2b0a530f5598",
   "metadata": {},
   "source": [
    "[Don't Click This](https://www.youtube.com/watch?v=dQw4w9WgXcQ)\n",
    "\n",
    "~~Hello~~\n",
    "\n",
    "I think\n",
    "\n",
    "---\n",
    "I liked \n",
    "\n",
    "---\n",
    "This Section of this course\n"
   ]
  },
  {
   "cell_type": "code",
   "execution_count": null,
   "id": "a38ef9dc-71ad-472c-815e-535b6948e8f9",
   "metadata": {},
   "outputs": [],
   "source": []
  }
 ],
 "metadata": {
  "kernelspec": {
   "display_name": "Python",
   "language": "python",
   "name": "conda-env-python-py"
  },
  "language_info": {
   "codemirror_mode": {
    "name": "ipython",
    "version": 3
   },
   "file_extension": ".py",
   "mimetype": "text/x-python",
   "name": "python",
   "nbconvert_exporter": "python",
   "pygments_lexer": "ipython3",
   "version": "3.7.12"
  }
 },
 "nbformat": 4,
 "nbformat_minor": 5
}
